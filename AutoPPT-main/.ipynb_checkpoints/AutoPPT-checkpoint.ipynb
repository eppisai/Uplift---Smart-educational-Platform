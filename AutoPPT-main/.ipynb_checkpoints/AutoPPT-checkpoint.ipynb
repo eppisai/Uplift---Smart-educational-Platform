{
 "cells": [
  {
   "cell_type": "code",
   "execution_count": 1,
   "metadata": {},
   "outputs": [],
   "source": [
    "# Web scraping, pptx, requests imports                                                                                     @****\n",
    "import requests\n",
    "from bs4 import BeautifulSoup\n",
    "from pptx.util import Inches, Pt\n",
    "from pptx import Presentation\n",
    "import urllib.request\n",
    "\n",
    "\n",
    "#import wikipedia (this can also be done to directly use functions for user-friendly scraping but it is \n",
    "# noticably sytlow) \n"
   ]
  },
  {
   "cell_type": "code",
   "execution_count": 2,
   "metadata": {},
   "outputs": [
    {
     "name": "stdout",
     "output_type": "stream",
     "text": [
      "what is the topic !? :)Sad\n",
      "what's your name?Palak\n"
     ]
    }
   ],
   "source": [
    "topic= input(\"what is the topic !? :)\")                                                                                #@****\n",
    "user=input(\"what's your name?\")\n"
   ]
  },
  {
   "cell_type": "code",
   "execution_count": 3,
   "metadata": {},
   "outputs": [],
   "source": [
    "# this line uses 'get' function to make a response object and to get the source code , use .text @***\n",
    "try:\n",
    "    source=requests.get('https://en.wikipedia.org/wiki/'+ topic).text\n",
    "except:\n",
    "    print(\"Error opening the URL\")\n",
    "\n"
   ]
  },
  {
   "cell_type": "code",
   "execution_count": 4,
   "metadata": {},
   "outputs": [],
   "source": [
    "soup= BeautifulSoup(source , 'lxml')\n",
    "# the next line gives the entire source code                                                                          @****\n",
    "#print(soup.prettify()) <--------------this is source code!"
   ]
  },
  {
   "cell_type": "code",
   "execution_count": 5,
   "metadata": {},
   "outputs": [],
   "source": [
    "#one seperate soup of headings as well as paragraphs, this helps in targeting the topics individually, later.\n",
    "article=\" \"\n",
    "for heading in soup.find_all([\"p\", \"h2\", \"h3\",\"[1]\",\"[2]\",\"[3]\"]):\n",
    "    article += ' ' + heading.text.strip()\n",
    "    \n",
    "    "
   ]
  },
  {
   "cell_type": "code",
   "execution_count": 6,
   "metadata": {},
   "outputs": [],
   "source": [
    "#..                                                                                                                     ****\n",
    "first_slide= \"\"\n",
    "second_slide= \"\"\n",
    "third_slide= \"\"\n",
    "fourth_slide= \"\"\n",
    "fifth_slide= \"\"\n",
    "sixth_slide= \"\"\n",
    "seventh_slide= \"\"\n",
    "matter =''\n",
    "deffi_slides=[]\n",
    "count=0\n",
    "lines=0\n",
    "'''\n",
    "this piece of code is specific to wikipidea.\n",
    "every page has its last hyperlinked heading as \"see also\" and we dont want it.\n",
    "also, the index was too big to fit into one slide, so i split the entries in more slides.the \"if\" section is for that slpitting.\n",
    "below it, we have 4 lines of code which extract out the first line of each heading by finding  the first full stop available.\n",
    "'''\n",
    "for heading in soup.find_all([ \"h2\", \"h3\"]):\n",
    "    if heading.text.strip()=='See also':\n",
    "            break\n",
    "    if heading.name== \"h2\":\n",
    "        char= ' ' + heading.text.strip()+\"\\n\"\n",
    "    if heading.name == \"h3\":\n",
    "        char = '  -- ' + heading.text.strip()+ \"\\n\"\n",
    "    lines+=1\n",
    "    matter= ''\n",
    "          #-----------------divides the *contents* section into parts of 9 lines per slide. to avoid congession\n",
    "\n",
    "    \n",
    "    if  lines<=9 and  (not char.isdigit()):\n",
    "        first_slide=first_slide+char\n",
    "        count=1\n",
    "    if  lines>9 and lines<+18 :\n",
    "        second_slide=second_slide+char\n",
    "        count=2\n",
    "    if lines>18 and lines<=27   :\n",
    "        third_slide=third_slide+char\n",
    "        count=3\n",
    "    if lines>27 and lines<=36 :\n",
    "        fourth_slide=fourth_slide+char\n",
    "        count=4\n",
    "    if lines>36 and  lines<=45 :\n",
    "        fifth_slide=fifth_slide+char\n",
    "        count=5\n",
    "    if lines>45 and  lines<=54 :\n",
    "        sixth_slide=sixth_slide+char\n",
    "        count=6    \n",
    "    if lines>54 and  lines<=63 :\n",
    "        seventh_slide=seventh_slide+char\n",
    "        count=7\n",
    "        #----------------------------------- finding the first sentences---------------\n",
    "    start_def = article.find(heading.text.strip()) \n",
    "    end_def= article.find('.',start_def)\n",
    "    matter += article[start_def: end_def+1]    \n",
    "    deffi_slides= deffi_slides +[[str(matter), 1]]   \n",
    "    \n",
    "        \n",
    "        \n",
    "\n",
    "\n"
   ]
  },
  {
   "cell_type": "code",
   "execution_count": 7,
   "metadata": {},
   "outputs": [
    {
     "name": "stdout",
     "output_type": "stream",
     "text": [
      "['Sadness', ' by python for Palak:)', 0]\n",
      "['contents', ' Contents\\n Childhood\\n Neuroanatomy\\n Coping mechanisms\\n Pupil empathy\\n Vocal expression\\n Cultural explorations\\n', 1]\n",
      "['Contents', 'Contents Childhood Sadness is a common experience in childhood.', 1]\n",
      "['Childhood', 'Childhood Sadness is a common experience in childhood.', 1]\n",
      "['Neuroanatomy', 'Neuroanatomy A large amount of research has been conducted on the neuroscience of sadness.', 1]\n",
      "['Coping mechanisms', 'Coping mechanisms People deal with sadness in different ways, and it is an important emotion because it helps to motivate people to deal with their situation.', 1]\n",
      "['Pupil empathy', 'Pupil empathy Pupil size may be an indicator of sadness.', 1]\n",
      "['Vocal expression', 'Vocal expression According to DIPR scientist Swati Johar,[22]:VII sadness is an emotion \"identified by current speech dialogue and processing systems\".', 1]\n",
      "['Cultural explorations', 'Cultural explorations During the Renaissance, Edmund Spenser in The Faerie Queene endorsed sadness as a marker of spiritual commitment.', 1]\n"
     ]
    }
   ],
   "source": [
    "prs = Presentation()\n",
    "# the format of this class is to refer to a 'list if lists'(make sure you remember this,or  it can lead to a frustrating mistake).\n",
    "# i found the class format, as the only way to add a second slide.so every required data is put into that format\n",
    "\n",
    "class MySlide:\n",
    "    def __init__(self, data):\n",
    "        self.layout = prs.slide_layouts[data[2]]\n",
    "        #apply the layout to the slide\n",
    "        self.slide = prs.slides.add_slide(self.layout)\n",
    "        self.title = self.slide.shapes.title\n",
    "        self.title.text = data[0]\n",
    "        self.subtitle = self.slide.placeholders[1]\n",
    "        self.subtitle.text=data[1]\n",
    "        \n",
    "slides=[[ soup.h1.text , \" by python for \"+ user+\":)\", 0]]\n",
    "index_slide=[ first_slide , second_slide, third_slide, fourth_slide, fifth_slide, sixth_slide, seventh_slide]\n",
    "indexing = []\n",
    "for a in range (count):\n",
    "    indexing = indexing+[[\"contents\",index_slide[a], 1]]\n",
    "## slides= slides+indexing and so on.... slides should be the final, only list, for easier addition.    \n",
    "\n",
    "    \n",
    "slides= slides+ indexing + deffi_slides\n",
    "\n",
    "for es in slides:\n",
    "    print(es)\n",
    "    MySlide(es)\n",
    "\n",
    "\n",
    "    \n",
    "prs.save('something.pptx')"
   ]
  },
  {
   "cell_type": "code",
   "execution_count": null,
   "metadata": {},
   "outputs": [],
   "source": []
  },
  {
   "cell_type": "code",
   "execution_count": 8,
   "metadata": {},
   "outputs": [
    {
     "data": {
      "text/plain": [
       "'             this   is  the    end     of   the   working  code   for   a  basic   ppt                             '"
      ]
     },
     "execution_count": 8,
     "metadata": {},
     "output_type": "execute_result"
    }
   ],
   "source": [
    "'''             this   is  the    end     of   the   working  code   for   a  basic   ppt                             '''\n",
    "#-------------------xxxxxxxxxxxxx----------------xxxxxxxxxxxxxxxxxx--------------------xxxxxxxxxxxxxx-------------------"
   ]
  },
  {
   "cell_type": "code",
   "execution_count": null,
   "metadata": {},
   "outputs": [],
   "source": []
  },
  {
   "cell_type": "code",
   "execution_count": null,
   "metadata": {},
   "outputs": [],
   "source": []
  },
  {
   "cell_type": "code",
   "execution_count": null,
   "metadata": {},
   "outputs": [],
   "source": []
  }
 ],
 "metadata": {
  "kernelspec": {
   "display_name": "Python 3",
   "language": "python",
   "name": "python3"
  },
  "language_info": {
   "codemirror_mode": {
    "name": "ipython",
    "version": 3
   },
   "file_extension": ".py",
   "mimetype": "text/x-python",
   "name": "python",
   "nbconvert_exporter": "python",
   "pygments_lexer": "ipython3",
   "version": "3.8.6"
  }
 },
 "nbformat": 4,
 "nbformat_minor": 2
}
