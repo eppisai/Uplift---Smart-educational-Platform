{
 "cells": [
  {
   "cell_type": "code",
   "execution_count": 1,
   "metadata": {},
   "outputs": [],
   "source": [
    "# Web scraping, pptx, requests imports                                                                                     @****\n",
    "import requests\n",
    "from bs4 import BeautifulSoup\n",
    "from pptx.util import Inches, Pt\n",
    "from pptx import Presentation\n",
    "import urllib.request\n",
    "\n",
    "\n",
    "#import wikipedia (this can also be done to directly use functions for user-friendly scraping but it is \n",
    "# noticably sytlow) \n"
   ]
  },
  {
   "cell_type": "code",
   "execution_count": 2,
   "metadata": {},
   "outputs": [
    {
     "name": "stdout",
     "output_type": "stream",
     "text": [
      "what is the topic !? :)Happy\n",
      "what's your name?Together\n"
     ]
    }
   ],
   "source": [
    "topic= input(\"what is the topic !? :)\")                                                                                #@****\n",
    "user=input(\"what's your name?\")\n"
   ]
  },
  {
   "cell_type": "code",
   "execution_count": 3,
   "metadata": {},
   "outputs": [],
   "source": [
    "# this line uses 'get' function to make a response object and to get the source code , use .text @***\n",
    "try:\n",
    "    source=requests.get('https://en.wikipedia.org/wiki/'+ topic).text\n",
    "except:\n",
    "    print(\"Error opening the URL\")\n",
    "\n"
   ]
  },
  {
   "cell_type": "code",
   "execution_count": 4,
   "metadata": {},
   "outputs": [],
   "source": [
    "soup= BeautifulSoup(source , 'lxml')\n",
    "# the next line gives the entire source code                                                                          @****\n",
    "#print(soup.prettify()) <--------------this is source code!"
   ]
  },
  {
   "cell_type": "code",
   "execution_count": 5,
   "metadata": {},
   "outputs": [],
   "source": [
    "#one seperate soup of headings as well as paragraphs, this helps in targeting the topics individually, later.\n",
    "article=\" \"\n",
    "for heading in soup.find_all([\"p\", \"h2\", \"h3\",\"[1]\",\"[2]\",\"[3]\"]):\n",
    "    article += ' ' + heading.text.strip()\n",
    "    \n",
    "    "
   ]
  },
  {
   "cell_type": "code",
   "execution_count": 6,
   "metadata": {},
   "outputs": [],
   "source": [
    "#..                                                                                                                     ****\n",
    "first_slide= \"\"\n",
    "second_slide= \"\"\n",
    "third_slide= \"\"\n",
    "fourth_slide= \"\"\n",
    "fifth_slide= \"\"\n",
    "sixth_slide= \"\"\n",
    "seventh_slide= \"\"\n",
    "matter =''\n",
    "deffi_slides=[]\n",
    "count=0\n",
    "lines=0\n",
    "'''\n",
    "this piece of code is specific to wikipidea.\n",
    "every page has its last hyperlinked heading as \"see also\" and we dont want it.\n",
    "also, the index was too big to fit into one slide, so i split the entries in more slides.the \"if\" section is for that slpitting.\n",
    "below it, we have 4 lines of code which extract out the first line of each heading by finding  the first full stop available.\n",
    "'''\n",
    "for heading in soup.find_all([ \"h2\", \"h3\"]):\n",
    "    if heading.text.strip()=='See also':\n",
    "            break\n",
    "    if heading.name== \"h2\":\n",
    "        char= ' ' + heading.text.strip()+\"\\n\"\n",
    "    if heading.name == \"h3\":\n",
    "        char = '  -- ' + heading.text.strip()+ \"\\n\"\n",
    "    lines+=1\n",
    "    matter= ''\n",
    "          #-----------------divides the *contents* section into parts of 9 lines per slide. to avoid congession\n",
    "\n",
    "    \n",
    "    if  lines<=9 and  (not char.isdigit()):\n",
    "        first_slide=first_slide+char\n",
    "        count=1\n",
    "    if  lines>9 and lines<+18 :\n",
    "        second_slide=second_slide+char\n",
    "        count=2\n",
    "    if lines>18 and lines<=27   :\n",
    "        third_slide=third_slide+char\n",
    "        count=3\n",
    "    if lines>27 and lines<=36 :\n",
    "        fourth_slide=fourth_slide+char\n",
    "        count=4\n",
    "    if lines>36 and  lines<=45 :\n",
    "        fifth_slide=fifth_slide+char\n",
    "        count=5\n",
    "    if lines>45 and  lines<=54 :\n",
    "        sixth_slide=sixth_slide+char\n",
    "        count=6    \n",
    "    if lines>54 and  lines<=63 :\n",
    "        seventh_slide=seventh_slide+char\n",
    "        count=7\n",
    "        #----------------------------------- finding the first sentences---------------\n",
    "    start_def = article.find(heading.text.strip()) \n",
    "    end_def= article.find('.',start_def)\n",
    "    matter += article[start_def: end_def+1]    \n",
    "    deffi_slides= deffi_slides +[[str(heading.text.strip()), str(matter), 1]]   \n",
    "    \n",
    "        \n",
    "        \n",
    "\n",
    "\n"
   ]
  },
  {
   "cell_type": "code",
   "execution_count": 7,
   "metadata": {},
   "outputs": [
    {
     "name": "stdout",
     "output_type": "stream",
     "text": [
      "['Happiness', ' by python for Together:)', 0]\n",
      "['contents', ' Contents\\n Definitions\\n Philosophy\\n Culture\\n Religion\\n  -- Eastern religions\\n  -- Abrahamic religions\\n Methods for achieving happiness\\n  -- Self-fulfilment theories\\n', 1]\n",
      "['contents', '  -- Positive psychology\\n  -- Indirect approaches\\n Possible limits on happiness seeking\\n Examining happiness\\n Measurement\\n Relationship to physical characteristics\\n Economic and political views\\n Contributing factors and research outcomes\\n', 1]\n",
      "[\"Contents Definitions 'Happiness' is the subject of debate on usage and meaning,[4][5][6][7] and on possible differences in understanding by culture.\", 1]\n"
     ]
    },
    {
     "ename": "IndexError",
     "evalue": "list index out of range",
     "output_type": "error",
     "traceback": [
      "\u001b[1;31m---------------------------------------------------------------------------\u001b[0m",
      "\u001b[1;31mIndexError\u001b[0m                                Traceback (most recent call last)",
      "\u001b[1;32m<ipython-input-7-4436c4ffe9bf>\u001b[0m in \u001b[0;36m<module>\u001b[1;34m\u001b[0m\n\u001b[0;32m     25\u001b[0m \u001b[1;32mfor\u001b[0m \u001b[0mes\u001b[0m \u001b[1;32min\u001b[0m \u001b[0mslides\u001b[0m\u001b[1;33m:\u001b[0m\u001b[1;33m\u001b[0m\u001b[1;33m\u001b[0m\u001b[0m\n\u001b[0;32m     26\u001b[0m     \u001b[0mprint\u001b[0m\u001b[1;33m(\u001b[0m\u001b[0mes\u001b[0m\u001b[1;33m)\u001b[0m\u001b[1;33m\u001b[0m\u001b[1;33m\u001b[0m\u001b[0m\n\u001b[1;32m---> 27\u001b[1;33m     \u001b[0mMySlide\u001b[0m\u001b[1;33m(\u001b[0m\u001b[0mes\u001b[0m\u001b[1;33m)\u001b[0m\u001b[1;33m\u001b[0m\u001b[1;33m\u001b[0m\u001b[0m\n\u001b[0m\u001b[0;32m     28\u001b[0m \u001b[1;33m\u001b[0m\u001b[0m\n\u001b[0;32m     29\u001b[0m \u001b[1;33m\u001b[0m\u001b[0m\n",
      "\u001b[1;32m<ipython-input-7-4436c4ffe9bf>\u001b[0m in \u001b[0;36m__init__\u001b[1;34m(self, data)\u001b[0m\n\u001b[0;32m      5\u001b[0m \u001b[1;32mclass\u001b[0m \u001b[0mMySlide\u001b[0m\u001b[1;33m:\u001b[0m\u001b[1;33m\u001b[0m\u001b[1;33m\u001b[0m\u001b[0m\n\u001b[0;32m      6\u001b[0m     \u001b[1;32mdef\u001b[0m \u001b[0m__init__\u001b[0m\u001b[1;33m(\u001b[0m\u001b[0mself\u001b[0m\u001b[1;33m,\u001b[0m \u001b[0mdata\u001b[0m\u001b[1;33m)\u001b[0m\u001b[1;33m:\u001b[0m\u001b[1;33m\u001b[0m\u001b[1;33m\u001b[0m\u001b[0m\n\u001b[1;32m----> 7\u001b[1;33m         \u001b[0mself\u001b[0m\u001b[1;33m.\u001b[0m\u001b[0mlayout\u001b[0m \u001b[1;33m=\u001b[0m \u001b[0mprs\u001b[0m\u001b[1;33m.\u001b[0m\u001b[0mslide_layouts\u001b[0m\u001b[1;33m[\u001b[0m\u001b[0mdata\u001b[0m\u001b[1;33m[\u001b[0m\u001b[1;36m2\u001b[0m\u001b[1;33m]\u001b[0m\u001b[1;33m]\u001b[0m\u001b[1;33m\u001b[0m\u001b[1;33m\u001b[0m\u001b[0m\n\u001b[0m\u001b[0;32m      8\u001b[0m         \u001b[1;31m#apply the layout to the slide\u001b[0m\u001b[1;33m\u001b[0m\u001b[1;33m\u001b[0m\u001b[1;33m\u001b[0m\u001b[0m\n\u001b[0;32m      9\u001b[0m         \u001b[0mself\u001b[0m\u001b[1;33m.\u001b[0m\u001b[0mslide\u001b[0m \u001b[1;33m=\u001b[0m \u001b[0mprs\u001b[0m\u001b[1;33m.\u001b[0m\u001b[0mslides\u001b[0m\u001b[1;33m.\u001b[0m\u001b[0madd_slide\u001b[0m\u001b[1;33m(\u001b[0m\u001b[0mself\u001b[0m\u001b[1;33m.\u001b[0m\u001b[0mlayout\u001b[0m\u001b[1;33m)\u001b[0m\u001b[1;33m\u001b[0m\u001b[1;33m\u001b[0m\u001b[0m\n",
      "\u001b[1;31mIndexError\u001b[0m: list index out of range"
     ]
    }
   ],
   "source": [
    "prs = Presentation()\n",
    "# the format of this class is to refer to a 'list if lists'(make sure you remember this,or  it can lead to a frustrating mistake).\n",
    "# i found the class format, as the only way to add a second slide.so every required data is put into that format\n",
    "\n",
    "class MySlide:\n",
    "    def __init__(self, data):\n",
    "        self.layout = prs.slide_layouts[data[2]]\n",
    "        #apply the layout to the slide\n",
    "        self.slide = prs.slides.add_slide(self.layout)\n",
    "        self.title = self.slide.shapes.title\n",
    "        self.title.text = data[0]\n",
    "        self.subtitle = self.slide.placeholders[1]\n",
    "        self.subtitle.text=data[1]\n",
    "        \n",
    "slides=[[ soup.h1.text , \" by python for \"+ user+\":)\", 0]]\n",
    "index_slide=[ first_slide , second_slide, third_slide, fourth_slide, fifth_slide, sixth_slide, seventh_slide]\n",
    "indexing = []\n",
    "for a in range (count):\n",
    "    indexing = indexing+[[\"contents\",index_slide[a], 1]]\n",
    "## slides= slides+indexing and so on.... slides should be the final, only list, for easier addition.    \n",
    "\n",
    "    \n",
    "slides= slides+ indexing + deffi_slides\n",
    "\n",
    "for es in slides:\n",
    "    print(es)\n",
    "    MySlide(es)\n",
    "\n",
    "\n",
    "    \n",
    "prs.save('something.pptx')"
   ]
  },
  {
   "cell_type": "code",
   "execution_count": null,
   "metadata": {},
   "outputs": [],
   "source": []
  },
  {
   "cell_type": "code",
   "execution_count": null,
   "metadata": {},
   "outputs": [],
   "source": [
    "'''             this   is  the    end     of   the   working  code   for   a  basic   ppt                             '''\n",
    "#-------------------xxxxxxxxxxxxx----------------xxxxxxxxxxxxxxxxxx--------------------xxxxxxxxxxxxxx-------------------"
   ]
  },
  {
   "cell_type": "code",
   "execution_count": null,
   "metadata": {},
   "outputs": [],
   "source": []
  },
  {
   "cell_type": "code",
   "execution_count": null,
   "metadata": {},
   "outputs": [],
   "source": []
  },
  {
   "cell_type": "code",
   "execution_count": null,
   "metadata": {},
   "outputs": [],
   "source": []
  }
 ],
 "metadata": {
  "kernelspec": {
   "display_name": "Python 3",
   "language": "python",
   "name": "python3"
  },
  "language_info": {
   "codemirror_mode": {
    "name": "ipython",
    "version": 3
   },
   "file_extension": ".py",
   "mimetype": "text/x-python",
   "name": "python",
   "nbconvert_exporter": "python",
   "pygments_lexer": "ipython3",
   "version": "3.8.6"
  }
 },
 "nbformat": 4,
 "nbformat_minor": 2
}
